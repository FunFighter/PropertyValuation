{
 "cells": [
  {
   "cell_type": "code",
   "execution_count": 2,
   "metadata": {},
   "outputs": [],
   "source": [
    "import pandas as pd\n",
    "import numpy as np\n",
    "import matplotlib.pyplot as plt\n",
    "\n",
    "%matplotlib inline\n",
    "\n",
    "\n",
    "# @TODO add rest of loan info\n",
    "# @TODO add address to allow for zip code searching on apis\n",
    "\n"
   ]
  },
  {
   "cell_type": "markdown",
   "metadata": {},
   "source": [
    "## Monthly Income"
   ]
  },
  {
   "cell_type": "code",
   "execution_count": 45,
   "metadata": {},
   "outputs": [],
   "source": [
    "unit_count = 2.5\n",
    "avg_mo_rent_per_unit = 750\n",
    "# @TODO find an api or something to pull zip code based vacancy rates\n",
    "# vacancy_rate as decimal\n",
    "vacancy_credit_loss = .15\n",
    "# Laundry vending parking services etc\n",
    "other_mo_income = 0"
   ]
  },
  {
   "cell_type": "markdown",
   "metadata": {},
   "source": [
    "## Monthly Operating Expenses"
   ]
  },
  {
   "cell_type": "code",
   "execution_count": 46,
   "metadata": {},
   "outputs": [],
   "source": [
    "property_mang_fees = 0\n",
    "repairs_and_main = 1000/12\n",
    "HOA_fees = 0\n",
    "replacement_reserve = 50\n",
    "pest_control = 10\n",
    "\n",
    "# If you're cool enough or not covered by the property manager\n",
    "advertising = 0\n",
    "legal = 0 \n",
    "accounting = 0\n",
    "\n",
    "# if covered by the land lord\n",
    "water = 0\n",
    "gas_and_electric = 0\n",
    "garbage = 0\n",
    "ISP_tele = 0"
   ]
  },
  {
   "cell_type": "markdown",
   "metadata": {},
   "source": [
    "## Capitalization Rate and Valuation"
   ]
  },
  {
   "cell_type": "code",
   "execution_count": 59,
   "metadata": {},
   "outputs": [],
   "source": [
    "desired_cap_rate = .08\n",
    "actual_pur_price = 175000"
   ]
  },
  {
   "cell_type": "markdown",
   "metadata": {},
   "source": [
    "## Loan"
   ]
  },
  {
   "cell_type": "code",
   "execution_count": 77,
   "metadata": {},
   "outputs": [],
   "source": [
    "down_payment = actual_pur_price * 0.15\n",
    "mortage_length = 30\n",
    "interest_rate = .042\n"
   ]
  },
  {
   "cell_type": "code",
   "execution_count": 75,
   "metadata": {},
   "outputs": [],
   "source": [
    "total_rental_income = unit_count * avg_mo_rent_per_unit\n",
    "vac_loss = (vacancy_credit_loss -1) *-1\n",
    "\n",
    "real_estate_tax = (.015 * actual_pur_price)/12\n",
    "rental_insur = (.04 * actual_pur_price)/12\n",
    "\n",
    "mo_op_arr = np.array([property_mang_fees,\n",
    "                      repairs_and_main,\n",
    "                      HOA_fees,\n",
    "                      replacement_reserve,\n",
    "                      pest_control,advertising,\n",
    "                      legal,accounting,water,\n",
    "                      gas_and_electric,\n",
    "                      garbage,\n",
    "                      ISP_tele,\n",
    "                      real_estate_tax,\n",
    "                      rental_insur\n",
    "                      ])\n",
    "\n",
    "# monthly calc\n",
    "gross_mo_income = total_rental_income * vac_loss\n",
    "monthly_operating_expenses = mo_op_arr.sum()\n",
    "\n",
    "# yearly calc\n",
    "annual_income = gross_mo_income*12\n",
    "annual_op_expenses = monthly_operating_expenses*12\n",
    "annual_net_operating_income = annual_income - annual_op_expenses\n",
    "\n",
    "loan_amount = actual_pur_price - down_payment\n",
    "acquisition_cost = actual_pur_price * 0.0175\n",
    "\n",
    "property_valueation  = annual_net_operating_income / desired_cap_rate\n",
    "actual_cap_rate  =   desired_cap_rate / actual_pur_price"
   ]
  },
  {
   "cell_type": "code",
   "execution_count": 76,
   "metadata": {},
   "outputs": [
    {
     "data": {
      "text/plain": [
       "3062.5000000000005"
      ]
     },
     "execution_count": 76,
     "metadata": {},
     "output_type": "execute_result"
    }
   ],
   "source": [
    "# need to check the actually tax numbers\n",
    "\n"
   ]
  },
  {
   "cell_type": "code",
   "execution_count": 64,
   "metadata": {},
   "outputs": [
    {
     "data": {
      "text/plain": [
       "4.5714285714285715e-07"
      ]
     },
     "execution_count": 64,
     "metadata": {},
     "output_type": "execute_result"
    }
   ],
   "source": []
  },
  {
   "cell_type": "code",
   "execution_count": null,
   "metadata": {},
   "outputs": [],
   "source": []
  }
 ],
 "metadata": {
  "kernelspec": {
   "display_name": "Python [conda env:pythondata]",
   "language": "python",
   "name": "conda-env-pythondata-py"
  },
  "language_info": {
   "codemirror_mode": {
    "name": "ipython",
    "version": 3
   },
   "file_extension": ".py",
   "mimetype": "text/x-python",
   "name": "python",
   "nbconvert_exporter": "python",
   "pygments_lexer": "ipython3",
   "version": "3.6.7"
  }
 },
 "nbformat": 4,
 "nbformat_minor": 2
}
